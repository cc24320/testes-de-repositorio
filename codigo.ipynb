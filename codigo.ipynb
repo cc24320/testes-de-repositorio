{
 "cells": [
  {
   "cell_type": "code",
   "execution_count": null,
   "metadata": {},
   "outputs": [
    {
     "name": "stdout",
     "output_type": "stream",
     "text": [
      "Requirement already satisfied: numpy in c:\\users\\maxim\\onedrive\\documents\\ti327v-trabalho3-equipe5\\.venv\\lib\\site-packages (2.2.6)\n",
      "Requirement already satisfied: pandas in c:\\users\\maxim\\onedrive\\documents\\ti327v-trabalho3-equipe5\\.venv\\lib\\site-packages (2.3.3)\n",
      "Requirement already satisfied: numpy>=1.22.4 in c:\\users\\maxim\\onedrive\\documents\\ti327v-trabalho3-equipe5\\.venv\\lib\\site-packages (from pandas) (2.2.6)\n",
      "Requirement already satisfied: python-dateutil>=2.8.2 in c:\\users\\maxim\\onedrive\\documents\\ti327v-trabalho3-equipe5\\.venv\\lib\\site-packages (from pandas) (2.9.0.post0)\n",
      "Requirement already satisfied: pytz>=2020.1 in c:\\users\\maxim\\onedrive\\documents\\ti327v-trabalho3-equipe5\\.venv\\lib\\site-packages (from pandas) (2025.2)\n",
      "Requirement already satisfied: tzdata>=2022.7 in c:\\users\\maxim\\onedrive\\documents\\ti327v-trabalho3-equipe5\\.venv\\lib\\site-packages (from pandas) (2025.2)\n",
      "Requirement already satisfied: six>=1.5 in c:\\users\\maxim\\onedrive\\documents\\ti327v-trabalho3-equipe5\\.venv\\lib\\site-packages (from python-dateutil>=2.8.2->pandas) (1.17.0)\n",
      "Requirement already satisfied: matplotlib in c:\\users\\maxim\\onedrive\\documents\\ti327v-trabalho3-equipe5\\.venv\\lib\\site-packages (3.10.7)\n",
      "Requirement already satisfied: contourpy>=1.0.1 in c:\\users\\maxim\\onedrive\\documents\\ti327v-trabalho3-equipe5\\.venv\\lib\\site-packages (from matplotlib) (1.3.2)\n",
      "Requirement already satisfied: cycler>=0.10 in c:\\users\\maxim\\onedrive\\documents\\ti327v-trabalho3-equipe5\\.venv\\lib\\site-packages (from matplotlib) (0.12.1)\n",
      "Requirement already satisfied: fonttools>=4.22.0 in c:\\users\\maxim\\onedrive\\documents\\ti327v-trabalho3-equipe5\\.venv\\lib\\site-packages (from matplotlib) (4.60.1)\n",
      "Requirement already satisfied: kiwisolver>=1.3.1 in c:\\users\\maxim\\onedrive\\documents\\ti327v-trabalho3-equipe5\\.venv\\lib\\site-packages (from matplotlib) (1.4.9)\n",
      "Requirement already satisfied: numpy>=1.23 in c:\\users\\maxim\\onedrive\\documents\\ti327v-trabalho3-equipe5\\.venv\\lib\\site-packages (from matplotlib) (2.2.6)\n",
      "Requirement already satisfied: packaging>=20.0 in c:\\users\\maxim\\onedrive\\documents\\ti327v-trabalho3-equipe5\\.venv\\lib\\site-packages (from matplotlib) (25.0)\n",
      "Requirement already satisfied: pillow>=8 in c:\\users\\maxim\\onedrive\\documents\\ti327v-trabalho3-equipe5\\.venv\\lib\\site-packages (from matplotlib) (12.0.0)\n",
      "Requirement already satisfied: pyparsing>=3 in c:\\users\\maxim\\onedrive\\documents\\ti327v-trabalho3-equipe5\\.venv\\lib\\site-packages (from matplotlib) (3.2.5)\n",
      "Requirement already satisfied: python-dateutil>=2.7 in c:\\users\\maxim\\onedrive\\documents\\ti327v-trabalho3-equipe5\\.venv\\lib\\site-packages (from matplotlib) (2.9.0.post0)\n",
      "Requirement already satisfied: six>=1.5 in c:\\users\\maxim\\onedrive\\documents\\ti327v-trabalho3-equipe5\\.venv\\lib\\site-packages (from python-dateutil>=2.7->matplotlib) (1.17.0)\n",
      "Requirement already satisfied: seaborn in c:\\users\\maxim\\onedrive\\documents\\ti327v-trabalho3-equipe5\\.venv\\lib\\site-packages (0.13.2)\n",
      "Requirement already satisfied: numpy!=1.24.0,>=1.20 in c:\\users\\maxim\\onedrive\\documents\\ti327v-trabalho3-equipe5\\.venv\\lib\\site-packages (from seaborn) (2.2.6)\n",
      "Requirement already satisfied: pandas>=1.2 in c:\\users\\maxim\\onedrive\\documents\\ti327v-trabalho3-equipe5\\.venv\\lib\\site-packages (from seaborn) (2.3.3)\n",
      "Requirement already satisfied: matplotlib!=3.6.1,>=3.4 in c:\\users\\maxim\\onedrive\\documents\\ti327v-trabalho3-equipe5\\.venv\\lib\\site-packages (from seaborn) (3.10.7)\n",
      "Requirement already satisfied: contourpy>=1.0.1 in c:\\users\\maxim\\onedrive\\documents\\ti327v-trabalho3-equipe5\\.venv\\lib\\site-packages (from matplotlib!=3.6.1,>=3.4->seaborn) (1.3.2)\n",
      "Requirement already satisfied: cycler>=0.10 in c:\\users\\maxim\\onedrive\\documents\\ti327v-trabalho3-equipe5\\.venv\\lib\\site-packages (from matplotlib!=3.6.1,>=3.4->seaborn) (0.12.1)\n",
      "Requirement already satisfied: fonttools>=4.22.0 in c:\\users\\maxim\\onedrive\\documents\\ti327v-trabalho3-equipe5\\.venv\\lib\\site-packages (from matplotlib!=3.6.1,>=3.4->seaborn) (4.60.1)\n",
      "Requirement already satisfied: kiwisolver>=1.3.1 in c:\\users\\maxim\\onedrive\\documents\\ti327v-trabalho3-equipe5\\.venv\\lib\\site-packages (from matplotlib!=3.6.1,>=3.4->seaborn) (1.4.9)\n",
      "Requirement already satisfied: packaging>=20.0 in c:\\users\\maxim\\onedrive\\documents\\ti327v-trabalho3-equipe5\\.venv\\lib\\site-packages (from matplotlib!=3.6.1,>=3.4->seaborn) (25.0)\n",
      "Requirement already satisfied: pillow>=8 in c:\\users\\maxim\\onedrive\\documents\\ti327v-trabalho3-equipe5\\.venv\\lib\\site-packages (from matplotlib!=3.6.1,>=3.4->seaborn) (12.0.0)\n",
      "Requirement already satisfied: pyparsing>=3 in c:\\users\\maxim\\onedrive\\documents\\ti327v-trabalho3-equipe5\\.venv\\lib\\site-packages (from matplotlib!=3.6.1,>=3.4->seaborn) (3.2.5)\n",
      "Requirement already satisfied: python-dateutil>=2.7 in c:\\users\\maxim\\onedrive\\documents\\ti327v-trabalho3-equipe5\\.venv\\lib\\site-packages (from matplotlib!=3.6.1,>=3.4->seaborn) (2.9.0.post0)\n",
      "Requirement already satisfied: pytz>=2020.1 in c:\\users\\maxim\\onedrive\\documents\\ti327v-trabalho3-equipe5\\.venv\\lib\\site-packages (from pandas>=1.2->seaborn) (2025.2)\n",
      "Requirement already satisfied: tzdata>=2022.7 in c:\\users\\maxim\\onedrive\\documents\\ti327v-trabalho3-equipe5\\.venv\\lib\\site-packages (from pandas>=1.2->seaborn) (2025.2)\n",
      "Requirement already satisfied: six>=1.5 in c:\\users\\maxim\\onedrive\\documents\\ti327v-trabalho3-equipe5\\.venv\\lib\\site-packages (from python-dateutil>=2.7->matplotlib!=3.6.1,>=3.4->seaborn) (1.17.0)\n"
     ]
    }
   ],
   "source": [
    "!pip install numpy\n",
    "!pip install pandas\n",
    "!pip install matplotlib\n",
    "!pip install seaborn"
   ]
  },
  {
   "cell_type": "code",
   "execution_count": 25,
   "metadata": {},
   "outputs": [],
   "source": [
    "from sklearn.model_selection import GridSearchCV, cross_val_score\n",
    "from sklearn.neighbors import KNeighborsClassifier\n",
    "from sklearn.pipeline import Pipeline\n",
    "from sklearn.preprocessing import StandardScaler\n",
    "from sklearn.metrics import recall_score, precision_score, f1_score, confusion_matrix\n",
    "\n",
    "import pandas as pd"
   ]
  },
  {
   "cell_type": "code",
   "execution_count": null,
   "metadata": {},
   "outputs": [],
   "source": [
    "payers = pd.read_csv('payers-v1.csv')\n",
    "seller = pd.read_csv('seller_terminals-v1.csv')\n",
    "transactions = pd.read_csv('transactions_train-v1.csv')"
   ]
  },
  {
   "cell_type": "code",
   "execution_count": null,
   "metadata": {},
   "outputs": [],
   "source": [
    "payers = pd.read_feather('payers-v1.csv')\n",
    "seller = pd.read_feather('seller_terminals-v1.csv')\n",
    "transactions = pd.read_feather('transactions_train-v1.csv')"
   ]
  },
  {
   "cell_type": "code",
   "execution_count": 27,
   "metadata": {},
   "outputs": [
    {
     "name": "stdout",
     "output_type": "stream",
     "text": [
      "<class 'pandas.core.frame.DataFrame'>\n",
      "RangeIndex: 10000 entries, 0 to 9999\n",
      "Data columns (total 3 columns):\n",
      " #   Column                  Non-Null Count  Dtype \n",
      "---  ------                  --------------  ----- \n",
      " 0   card_hash               10000 non-null  int64 \n",
      " 1   card_bin                10000 non-null  int64 \n",
      " 2   card_first_transaction  10000 non-null  object\n",
      "dtypes: int64(2), object(1)\n",
      "memory usage: 234.5+ KB\n"
     ]
    }
   ],
   "source": [
    "payers.info()"
   ]
  },
  {
   "cell_type": "code",
   "execution_count": 28,
   "metadata": {},
   "outputs": [
    {
     "name": "stdout",
     "output_type": "stream",
     "text": [
      "<class 'pandas.core.frame.DataFrame'>\n",
      "RangeIndex: 2000 entries, 0 to 1999\n",
      "Data columns (total 5 columns):\n",
      " #   Column                    Non-Null Count  Dtype  \n",
      "---  ------                    --------------  -----  \n",
      " 0   terminal_id               2000 non-null   int64  \n",
      " 1   latitude                  2000 non-null   float64\n",
      " 2   longitude                 2000 non-null   float64\n",
      " 3   terminal_operation_start  2000 non-null   object \n",
      " 4   terminal_soft_descriptor  2000 non-null   object \n",
      "dtypes: float64(2), int64(1), object(2)\n",
      "memory usage: 78.2+ KB\n"
     ]
    }
   ],
   "source": [
    "seller.info()"
   ]
  },
  {
   "cell_type": "code",
   "execution_count": 14,
   "metadata": {},
   "outputs": [
    {
     "name": "stdout",
     "output_type": "stream",
     "text": [
      "<class 'pandas.core.frame.DataFrame'>\n",
      "RangeIndex: 4483956 entries, 0 to 4483955\n",
      "Data columns (total 10 columns):\n",
      " #   Column                  Dtype  \n",
      "---  ------                  -----  \n",
      " 0   transaction_id          int64  \n",
      " 1   tx_datetime             object \n",
      " 2   tx_date                 object \n",
      " 3   tx_time                 object \n",
      " 4   tx_amount               float64\n",
      " 5   card_id                 int64  \n",
      " 6   terminal_id             int64  \n",
      " 7   is_transactional_fraud  int64  \n",
      " 8   is_fraud                bool   \n",
      " 9   tx_fraud_report_date    object \n",
      "dtypes: bool(1), float64(1), int64(4), object(4)\n",
      "memory usage: 312.2+ MB\n"
     ]
    }
   ],
   "source": [
    "transactions.info()"
   ]
  },
  {
   "cell_type": "code",
   "execution_count": null,
   "metadata": {},
   "outputs": [],
   "source": [
    "transactions = transactions.rename(columns={\n",
    "    'card_id': 'CARD_ID', 'terminal_id': 'TERMINAL_ID', 'tx_amount': 'AMOUNT',                 \n",
    "    'tx_datetime': 'DATETIME', 'is_fraud': 'IS_FRAUD', 'transaction_id': 'TRANSACTION_ID'     \n",
    "})\n",
    "transactions['DATETIME'] = pd.to_datetime(transactions['DATETIME'])\n",
    "transactions['IS_FRAUD'] = transactions['IS_FRAUD'].astype(int)"
   ]
  },
  {
   "cell_type": "code",
   "execution_count": null,
   "metadata": {},
   "outputs": [],
   "source": [
    "payers = payers.rename(columns={'card_hash': 'CARD_ID'})\n",
    "seller = seller.rename(columns={'terminal_id': 'TERMINAL_ID', 'latitude': 'LATITUDE', 'longitude': 'LONGITUDE'})\n",
    "\n",
    "df_full = transactions.merge(payers, on='CARD_ID', how='left')\n",
    "df_full = df_full.merge(seller, on='TERMINAL_ID', how='left') \n",
    "df_full = df_full.sort_values('DATETIME').reset_index(drop=True)"
   ]
  },
  {
   "cell_type": "markdown",
   "metadata": {},
   "source": [
    "## Features"
   ]
  },
  {
   "cell_type": "code",
   "execution_count": null,
   "metadata": {},
   "outputs": [],
   "source": [
    "group_col = 'CARD_ID'\n",
    "df_temp = df_full.copy().set_index('DATETIME')\n",
    "df_grouped = df_temp.groupby(group_col) \t"
   ]
  },
  {
   "cell_type": "code",
   "execution_count": null,
   "metadata": {},
   "outputs": [],
   "source": [
    "df_full = df_full.fillna(0)\n",
    "\n",
    "df_full = df_full.set_index('DATETIME')\n",
    "\n",
    "GROUP_CONFIGS = [\n",
    "    ('CARD_ID', ['7D', '30D']),\n",
    "    ('TERMINAL_ID', ['1D', '7D'])\n",
    "]\n",
    "\n",
    "for GROUP_COL, TIME_WINDOWS in GROUP_CONFIGS:\n",
    "    \n",
    "    df_grouped = df_full.groupby(GROUP_COL)\n",
    "    \n",
    "    for window in TIME_WINDOWS:\n",
    "        \n",
    "        tx_count_col = f'{GROUP_COL}_TX_COUNT_{window}'\n",
    "        avg_amount_col = f'{GROUP_COL}_AVG_AMOUNT_{window}'\n",
    "        \n",
    "        tx_count_result = df_grouped['TRANSACTION_ID'].rolling(\n",
    "            window=window, \n",
    "            closed='left'\n",
    "        ).count().reset_index(level=0, drop=True).sort_index()\n",
    "\n",
    "        df_full[tx_count_col] = tx_count_result\n",
    "\n",
    "        avg_amount_result = df_grouped['AMOUNT'].rolling(\n",
    "            window=window, \n",
    "            closed='left'\n",
    "        ).mean().reset_index(level=0, drop=True).sort_index()\n",
    "        \n",
    "        df_full[avg_amount_col] = avg_amount_result\n",
    "\n",
    "df_full = df_full.reset_index()\n",
    "df_full = df_full.fillna(0)"
   ]
  },
  {
   "cell_type": "markdown",
   "metadata": {},
   "source": [
    "## Attributes"
   ]
  },
  {
   "cell_type": "code",
   "execution_count": null,
   "metadata": {},
   "outputs": [],
   "source": [
    "df_full['TX_MONTH'] = df_full['DATETIME'].dt.to_period('M')\n",
    "all_months = sorted(df_full['TX_MONTH'].unique())"
   ]
  },
  {
   "cell_type": "code",
   "execution_count": null,
   "metadata": {},
   "outputs": [],
   "source": [
    "\n",
    "NUM_MONTHS = len(all_months)\n",
    "TEST_MONTH = all_months[-1] \n",
    "VAL_MONTH = all_months[-2] \n",
    "TRAIN_MONTHS = all_months[:-2]\n",
    "\n",
    "df_train = df_full[df_full['TX_MONTH'].isin(TRAIN_MONTHS)] \n",
    "df_validation = df_full[df_full['TX_MONTH'] == VAL_MONTH]\n",
    "df_test = df_full[df_full['TX_MONTH'] == TEST_MONTH] \n"
   ]
  },
  {
   "cell_type": "code",
   "execution_count": null,
   "metadata": {},
   "outputs": [],
   "source": [
    "COLS_TO_DROP = ['IS_FRAUD', 'DATETIME', 'TX_MONTH', 'TRANSACTION_ID', \n",
    "                'CARD_ID', 'TERMINAL_ID', 'LATITUDE', 'LONGITUDE',\n",
    "                'card_first_transaction', 'terminal_operation_start', 'terminal_soft_descriptor']\n",
    "\n",
    "features = [col for col in df_full.columns if col not in COLS_TO_DROP]"
   ]
  },
  {
   "cell_type": "code",
   "execution_count": null,
   "metadata": {},
   "outputs": [],
   "source": [
    "X_train = df_train[features].fillna(0)\n",
    "y_train = df_train['IS_FRAUD']\n",
    "\n",
    "X_val = df_validation[features].fillna(0)\n",
    "y_val = df_validation['IS_FRAUD']\n",
    "\n",
    "X_test = df_test[features].fillna(0)\n",
    "y_test = df_test['IS_FRAUD']"
   ]
  }
 ],
 "metadata": {
  "kernelspec": {
   "display_name": "venv",
   "language": "python",
   "name": "python3"
  },
  "language_info": {
   "codemirror_mode": {
    "name": "ipython",
    "version": 3
   },
   "file_extension": ".py",
   "mimetype": "text/x-python",
   "name": "python",
   "nbconvert_exporter": "python",
   "pygments_lexer": "ipython3",
   "version": "3.10.0"
  }
 },
 "nbformat": 4,
 "nbformat_minor": 2

 "cells": [
  {
   "cell_type": "markdown",
   "id": "ab1a6606",
   "metadata": {},
   "source": [
    "# Model Training"
   ]
  },
  {
   "cell_type": "code",
   "execution_count": null,
   "id": "9456ebcb",
   "metadata": {
    "vscode": {
     "languageId": "plaintext"
    }
   },
   "outputs": [],
   "source": [
    "# Pipeline: standardization + KNN\n",
    "pipeline = Pipeline([\n",
    "    ('scaler', StandardScaler()),\n",
    "    ('knn', KNeighborsClassifier())\n",
    "])\n",
    "\n",
    "# Parameter grid for search\n",
    "param_grid = {\n",
    "    'knn__n_neighbors': [3, 5, 7],\n",
    "    'knn__weights': ['uniform', 'distance'],\n",
    "    'knn__metric': ['euclidean', 'manhattan']\n",
    "}\n",
    "\n",
    "# Search for the best parameters using cross-validation\n",
    "grid_search = GridSearchCV(\n",
    "    estimator=pipeline,\n",
    "    param_grid=param_grid,\n",
    "    scoring='f1',\n",
    "    cv=3,\n",
    "    n_jobs=-1,\n",
    "    verbose=2\n",
    ")\n",
    "\n",
    "print(\"🔹 Training model with GridSearchCV...\")\n",
    "grid_search.fit(X_train, y_train)\n",
    "\n",
    "print(\"\\n✅ Best parameter combination found:\")\n",
    "print(grid_search.best_params_)\n",
    "\n",
    "# Best model found\n",
    "best_model = grid_search.best_estimator_"
   ]
  },
  {
   "cell_type": "markdown",
   "id": "5130a959",
   "metadata": {},
   "source": [
    "\n",
    "\n",
    "# Evaluation\n"
   ]
  },
  {
   "cell_type": "code",
   "execution_count": null,
   "id": "2bede774",
   "metadata": {
    "vscode": {
     "languageId": "plaintext"
    }
   },
   "outputs": [],
   "source": [
    "# Evaluation on validation set\n",
    "y_val_pred = best_model.predict(X_val)\n",
    "\n",
    "print(\"\\n🔹 Validation set evaluation:\")\n",
    "print(f\"Precision: {precision_score(y_val, y_val_pred):.4f}\")\n",
    "print(f\"Recall: {recall_score(y_val, y_val_pred):.4f}\")\n",
    "print(f\"F1-Score: {f1_score(y_val, y_val_pred):.4f}\")\n",
    "\n",
    "# Confusion matrix\n",
    "print(\"\\nConfusion Matrix (Validation):\")\n",
    "print(confusion_matrix(y_val, y_val_pred))\n",
    "\n",
    "# ============================\n",
    "# FINAL TEST\n",
    "# ============================\n",
    "\n",
    "y_test_pred = best_model.predict(X_test)\n",
    "\n",
    "print(\"\\n🔹 Test set evaluation:\")\n",
    "print(f\"Precision: {precision_score(y_test, y_test_pred):.4f}\")\n",
    "print(f\"Recall: {recall_score(y_test, y_test_pred):.4f}\")\n",
    "print(f\"F1-Score: {f1_score(y_test, y_test_pred):.4f}\")\n",
    "\n",
    "print(\"\\nConfusion Matrix (Test):\")\n",
    "print(confusion_matrix(y_test, y_test_pred))\n"
   ]
  }
 ],
 "metadata": {
  "language_info": {
   "name": "python"
  }
 },
 "nbformat": 4,
 "nbformat_minor": 5
}
